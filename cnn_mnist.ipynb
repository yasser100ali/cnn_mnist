{
 "cells": [
  {
   "cell_type": "code",
   "execution_count": 2,
   "id": "5a41f272-939a-4347-a82a-def7a7969fcb",
   "metadata": {
    "tags": []
   },
   "outputs": [],
   "source": [
    "import keras\n",
    "import numpy as np\n",
    "(X_train_full, y_train_full), (X_test, y_test) = keras.datasets.mnist.load_data()\n",
    "X_train_full, X_test = X_train_full / 255, X_test / 255\n",
    "X_train, X_valid = X_train_full[5000:], X_train_full[:5000]\n",
    "y_train, y_valid = y_train_full[5000:], y_train_full[:5000]\n",
    "\n",
    "X_train = X_train[..., np.newaxis]\n",
    "X_valid = X_valid[..., np.newaxis]\n",
    "X_test = X_test[..., np.newaxis]"
   ]
  },
  {
   "cell_type": "code",
   "execution_count": 3,
   "id": "23df6caa-3081-4d90-bf74-9785a17e2788",
   "metadata": {
    "tags": []
   },
   "outputs": [],
   "source": [
    "# build the model\n",
    "from keras.layers import MaxPool2D as maxpool, Conv2D as conv, Flatten, Dropout, Dense\n",
    "from keras.models import Sequential\n",
    "from functools import partial\n",
    "\n",
    "cnvol = partial(conv, kernel_size = 3, activation = 'relu', padding = 'same')\n",
    "model = Sequential([\n",
    "    cnvol(32),\n",
    "    cnvol(64),\n",
    "    maxpool(),\n",
    "    Flatten(),\n",
    "    Dropout(0.25),\n",
    "    Dense(128, activation = 'relu'),\n",
    "    Dropout(0.5),\n",
    "    Dense(10, activation = 'softmax')\n",
    "])"
   ]
  },
  {
   "cell_type": "code",
   "execution_count": 4,
   "id": "921b3279-fcc1-401b-8e95-13b7e4615c61",
   "metadata": {
    "tags": []
   },
   "outputs": [],
   "source": [
    "model.compile(loss = 'sparse_categorical_crossentropy',\n",
    "              metrics = ['accuracy'],\n",
    "              optimizer = 'nadam')"
   ]
  },
  {
   "cell_type": "code",
   "execution_count": 5,
   "id": "95cec168-e1fa-4d59-8009-3cbe0c30704b",
   "metadata": {
    "tags": []
   },
   "outputs": [
    {
     "name": "stdout",
     "output_type": "stream",
     "text": [
      "Epoch 1/10\n",
      "\u001b[1m1719/1719\u001b[0m \u001b[32m━━━━━━━━━━━━━━━━━━━━\u001b[0m\u001b[37m\u001b[0m \u001b[1m48s\u001b[0m 28ms/step - accuracy: 0.8833 - loss: 0.3770 - val_accuracy: 0.9828 - val_loss: 0.0592\n",
      "Epoch 2/10\n",
      "\u001b[1m1719/1719\u001b[0m \u001b[32m━━━━━━━━━━━━━━━━━━━━\u001b[0m\u001b[37m\u001b[0m \u001b[1m48s\u001b[0m 28ms/step - accuracy: 0.9736 - loss: 0.0878 - val_accuracy: 0.9890 - val_loss: 0.0381\n",
      "Epoch 3/10\n",
      "\u001b[1m1719/1719\u001b[0m \u001b[32m━━━━━━━━━━━━━━━━━━━━\u001b[0m\u001b[37m\u001b[0m \u001b[1m48s\u001b[0m 28ms/step - accuracy: 0.9818 - loss: 0.0600 - val_accuracy: 0.9898 - val_loss: 0.0332\n",
      "Epoch 4/10\n",
      "\u001b[1m1719/1719\u001b[0m \u001b[32m━━━━━━━━━━━━━━━━━━━━\u001b[0m\u001b[37m\u001b[0m \u001b[1m49s\u001b[0m 29ms/step - accuracy: 0.9840 - loss: 0.0501 - val_accuracy: 0.9896 - val_loss: 0.0351\n",
      "Epoch 5/10\n",
      "\u001b[1m1719/1719\u001b[0m \u001b[32m━━━━━━━━━━━━━━━━━━━━\u001b[0m\u001b[37m\u001b[0m \u001b[1m50s\u001b[0m 29ms/step - accuracy: 0.9871 - loss: 0.0416 - val_accuracy: 0.9904 - val_loss: 0.0390\n",
      "Epoch 6/10\n",
      "\u001b[1m1719/1719\u001b[0m \u001b[32m━━━━━━━━━━━━━━━━━━━━\u001b[0m\u001b[37m\u001b[0m \u001b[1m51s\u001b[0m 30ms/step - accuracy: 0.9898 - loss: 0.0341 - val_accuracy: 0.9890 - val_loss: 0.0363\n",
      "Epoch 7/10\n",
      "\u001b[1m1719/1719\u001b[0m \u001b[32m━━━━━━━━━━━━━━━━━━━━\u001b[0m\u001b[37m\u001b[0m \u001b[1m53s\u001b[0m 31ms/step - accuracy: 0.9903 - loss: 0.0316 - val_accuracy: 0.9910 - val_loss: 0.0288\n",
      "Epoch 8/10\n",
      "\u001b[1m1719/1719\u001b[0m \u001b[32m━━━━━━━━━━━━━━━━━━━━\u001b[0m\u001b[37m\u001b[0m \u001b[1m51s\u001b[0m 29ms/step - accuracy: 0.9921 - loss: 0.0275 - val_accuracy: 0.9932 - val_loss: 0.0297\n",
      "Epoch 9/10\n",
      "\u001b[1m1719/1719\u001b[0m \u001b[32m━━━━━━━━━━━━━━━━━━━━\u001b[0m\u001b[37m\u001b[0m \u001b[1m51s\u001b[0m 30ms/step - accuracy: 0.9918 - loss: 0.0262 - val_accuracy: 0.9924 - val_loss: 0.0253\n",
      "Epoch 10/10\n",
      "\u001b[1m1719/1719\u001b[0m \u001b[32m━━━━━━━━━━━━━━━━━━━━\u001b[0m\u001b[37m\u001b[0m \u001b[1m51s\u001b[0m 30ms/step - accuracy: 0.9933 - loss: 0.0212 - val_accuracy: 0.9926 - val_loss: 0.0335\n"
     ]
    },
    {
     "data": {
      "text/plain": [
       "<keras.src.callbacks.history.History at 0x11130d890>"
      ]
     },
     "execution_count": 5,
     "metadata": {},
     "output_type": "execute_result"
    }
   ],
   "source": [
    "model.fit(X_train, y_train,\n",
    "          epochs = 10, \n",
    "          validation_data = (X_valid, y_valid))"
   ]
  },
  {
   "cell_type": "code",
   "execution_count": 8,
   "id": "724025ae-612f-4370-b7d1-6cbd3567bef8",
   "metadata": {
    "tags": []
   },
   "outputs": [
    {
     "name": "stdout",
     "output_type": "stream",
     "text": [
      "\u001b[1m313/313\u001b[0m \u001b[32m━━━━━━━━━━━━━━━━━━━━\u001b[0m\u001b[37m\u001b[0m \u001b[1m2s\u001b[0m 6ms/step - accuracy: 0.9899 - loss: 0.0372\n"
     ]
    },
    {
     "data": {
      "text/plain": [
       "[0.030953506007790565, 0.9922000169754028]"
      ]
     },
     "execution_count": 8,
     "metadata": {},
     "output_type": "execute_result"
    }
   ],
   "source": [
    "model.evaluate(X_test, y_test)"
   ]
  },
  {
   "cell_type": "code",
   "execution_count": 7,
   "id": "c5ed8f54-6716-4036-923f-91595c885970",
   "metadata": {
    "tags": []
   },
   "outputs": [],
   "source": [
    "model.save('cnn_mnist.keras')"
   ]
  },
  {
   "cell_type": "code",
   "execution_count": null,
   "id": "043cecb1-459b-485a-96bb-4bf518b366f5",
   "metadata": {},
   "outputs": [],
   "source": []
  }
 ],
 "metadata": {
  "kernelspec": {
   "display_name": "Python 3 (ipykernel)",
   "language": "python",
   "name": "python3"
  },
  "language_info": {
   "codemirror_mode": {
    "name": "ipython",
    "version": 3
   },
   "file_extension": ".py",
   "mimetype": "text/x-python",
   "name": "python",
   "nbconvert_exporter": "python",
   "pygments_lexer": "ipython3",
   "version": "3.11.5"
  }
 },
 "nbformat": 4,
 "nbformat_minor": 5
}
